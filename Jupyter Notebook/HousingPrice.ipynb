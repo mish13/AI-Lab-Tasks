{
 "cells": [
  {
   "cell_type": "code",
   "execution_count": 1,
   "metadata": {},
   "outputs": [],
   "source": [
    "from sklearn import linear_model\n",
    "from sklearn.datasets import fetch_california_housing\n",
    "from sklearn.model_selection import train_test_split\n",
    "import matplotlib.pyplot as plt\n",
    "from sklearn.metrics import mean_squared_error\n",
    "from sklearn import preprocessing\n",
    "from sklearn.preprocessing import PolynomialFeatures\n",
    "import pdb"
   ]
  },
  {
   "cell_type": "code",
   "execution_count": 2,
   "metadata": {},
   "outputs": [
    {
     "name": "stderr",
     "output_type": "stream",
     "text": [
      "Downloading Cal. housing from https://ndownloader.figshare.com/files/5976036 to C:\\Users\\SIUPC Judge\\scikit_learn_data\n"
     ]
    }
   ],
   "source": [
    "dataset = fetch_california_housing()"
   ]
  },
  {
   "cell_type": "code",
   "execution_count": 3,
   "metadata": {},
   "outputs": [],
   "source": [
    "pft = PolynomialFeatures(degree = 3)"
   ]
  },
  {
   "cell_type": "code",
   "execution_count": 4,
   "metadata": {},
   "outputs": [],
   "source": [
    "label_prices = dataset['target']\n",
    "feature_names = dataset['feature_names']"
   ]
  },
  {
   "cell_type": "code",
   "execution_count": 5,
   "metadata": {},
   "outputs": [],
   "source": [
    "data_original = (dataset.data)\n",
    "X_scaled = preprocessing.scale(dataset.data)"
   ]
  },
  {
   "cell_type": "code",
   "execution_count": 6,
   "metadata": {},
   "outputs": [],
   "source": [
    "X_poly = pft.fit_transform(X_scaled)"
   ]
  },
  {
   "cell_type": "code",
   "execution_count": 7,
   "metadata": {},
   "outputs": [],
   "source": [
    "X_train, X_dummy, y_train, y_dummy = train_test_split(X_poly, dataset.target, test_size = 0.40, random_state = 42)\n",
    "X_CV,X_test,y_CV,y_test = train_test_split(X_dummy, y_dummy, test_size = 0.2, random_state = 42)"
   ]
  },
  {
   "cell_type": "code",
   "execution_count": 8,
   "metadata": {},
   "outputs": [
    {
     "data": {
      "text/plain": [
       "Ridge(alpha=9000, copy_X=True, fit_intercept=True, max_iter=None,\n",
       "   normalize=False, random_state=None, solver='auto', tol=0.001)"
      ]
     },
     "execution_count": 8,
     "metadata": {},
     "output_type": "execute_result"
    }
   ],
   "source": [
    "model = linear_model.Ridge(alpha = 9000)\n",
    "model.fit(X_train, y_train)"
   ]
  },
  {
   "cell_type": "code",
   "execution_count": 9,
   "metadata": {},
   "outputs": [],
   "source": [
    "predictionCV = model.predict(X_CV)\n",
    "predictionTestSet = model.predict(X_test)"
   ]
  },
  {
   "cell_type": "code",
   "execution_count": 10,
   "metadata": {},
   "outputs": [],
   "source": [
    "errorCV = mean_squared_error(y_CV, predictionCV)\n",
    "errorTestSet = mean_squared_error(y_test, predictionTestSet)\n"
   ]
  },
  {
   "cell_type": "code",
   "execution_count": 11,
   "metadata": {},
   "outputs": [
    {
     "data": {
      "image/png": "[encoded data removed]",
      "text/plain": [
       "<Figure size 432x288 with 1 Axes>"
      ]
     },
     "metadata": {
      "needs_background": "light"
     },
     "output_type": "display_data"
    }
   ],
   "source": [
    "plt.scatter(y_CV, predictionCV, c = 'green')\n",
    "plt.xlabel(\"Price in 1000$\")\n",
    "plt.ylabel(\"Predicted CV value\")\n",
    "plt.title(\"Predicted CV value vs True CV value: Linear Regression\")\n",
    "plt.show()\n"
   ]
  },
  {
   "cell_type": "code",
   "execution_count": 12,
   "metadata": {},
   "outputs": [
    {
     "name": "stdout",
     "output_type": "stream",
     "text": [
      "Predicted Value[60] from test set: 2.755454545084397\n",
      "\n",
      "Original Value[60] form test set: 3.044\n",
      "\n",
      "Prices for the houses: [4.526 3.585 3.521 ... 0.923 0.847 0.894]\n",
      "\n",
      "Feature names: ['MedInc', 'HouseAge', 'AveRooms', 'AveBedrms', 'Population', 'AveOccup', 'Latitude', 'Longitude']\n",
      "\n",
      "Prediction in CV: [1.92976486 1.81447965 1.7472605  ... 1.52765829 2.01224724 1.13936489]\n",
      "\n",
      "Original Values of CV: [2.459 3.5   0.723 ... 1.157 3.746 0.762]\n",
      "\n"
     ]
    }
   ],
   "source": [
    "print(\"Predicted Value[60] from test set: {}\\n\".format(predictionTestSet[60]))\n",
    "print(\"Original Value[60] form test set: {}\\n\".format(y_test[60]))\n",
    "print(\"Prices for the houses: {}\\n\".format(label_prices))\n",
    "print(\"Feature names: {}\\n\".format(feature_names))\n",
    "print(\"Prediction in CV: {}\\n\".format(predictionCV))\n",
    "print(\"Original Values of CV: {}\\n\".format(y_CV))"
   ]
  },
  {
   "cell_type": "code",
   "execution_count": 13,
   "metadata": {},
   "outputs": [
    {
     "name": "stdout",
     "output_type": "stream",
     "text": [
      "Error in cross-validation set: 0.73\n",
      "\n",
      "Predicted value for test set: [1.52839572 1.35412555 2.46424637 ... 2.31755069 2.02579849 2.5529001 ]\n",
      "\n",
      "Original value for test set: [0.413 0.69  1.675 ... 1.688 1.493 4.612]\n",
      "\n",
      "Error in test set: 0.67\n",
      "\n"
     ]
    }
   ],
   "source": [
    "print(\"Error in cross-validation set: {:.2f}\\n\".format(errorCV))\n",
    "print(\"Predicted value for test set: {}\\n\".format(predictionTestSet))\n",
    "print(\"Original value for test set: {}\\n\".format(y_test))\n",
    "print(\"Error in test set: {:.2f}\\n\".format(errorTestSet))"
   ]
  },
  {
   "cell_type": "code",
   "execution_count": null,
   "metadata": {},
   "outputs": [],
   "source": []
  }
 ],
 "metadata": {
  "kernelspec": {
   "display_name": "Python 3",
   "language": "python",
   "name": "python3"
  },
  "language_info": {
   "codemirror_mode": {
    "name": "ipython",
    "version": 3
   },
   "file_extension": ".py",
   "mimetype": "text/x-python",
   "name": "python",
   "nbconvert_exporter": "python",
   "pygments_lexer": "ipython3",
   "version": "3.7.3"
  }
 },
 "nbformat": 4,
 "nbformat_minor": 2
}
